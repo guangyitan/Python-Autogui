{
 "cells": [
  {
   "cell_type": "code",
   "execution_count": 1,
   "metadata": {},
   "outputs": [],
   "source": [
    "import pyautogui\n",
    "import time"
   ]
  },
  {
   "cell_type": "code",
   "execution_count": 7,
   "metadata": {},
   "outputs": [
    {
     "ename": "KeyboardInterrupt",
     "evalue": "",
     "output_type": "error",
     "traceback": [
      "\u001b[1;31m---------------------------------------------------------------------------\u001b[0m",
      "\u001b[1;31mKeyboardInterrupt\u001b[0m                         Traceback (most recent call last)",
      "Cell \u001b[1;32mIn [7], line 9\u001b[0m\n\u001b[0;32m      7\u001b[0m     pyautogui\u001b[39m.\u001b[39mmoveRel(\u001b[39m0\u001b[39m,\u001b[39m-\u001b[39m\u001b[39m10\u001b[39m)\n\u001b[0;32m      8\u001b[0m     up \u001b[39m=\u001b[39m \u001b[39m0\u001b[39m\n\u001b[1;32m----> 9\u001b[0m time\u001b[39m.\u001b[39;49msleep(\u001b[39m10\u001b[39;49m)\n",
      "\u001b[1;31mKeyboardInterrupt\u001b[0m: "
     ]
    }
   ],
   "source": [
    "up = 0\n",
    "while True:\n",
    "    # move cursor up and down\n",
    "    if up == 0:\n",
    "        pyautogui.moveRel(0,10)\n",
    "        up = 1\n",
    "    else:\n",
    "        pyautogui.moveRel(0,-10)\n",
    "        up = 0\n",
    "    time.sleep(30) # sleep time in seconds\n",
    "    "
   ]
  },
  {
   "cell_type": "code",
   "execution_count": null,
   "metadata": {},
   "outputs": [],
   "source": []
  }
 ],
 "metadata": {
  "kernelspec": {
   "display_name": "Python 3.10.4 ('.autogui-venv': venv)",
   "language": "python",
   "name": "python3"
  },
  "language_info": {
   "codemirror_mode": {
    "name": "ipython",
    "version": 3
   },
   "file_extension": ".py",
   "mimetype": "text/x-python",
   "name": "python",
   "nbconvert_exporter": "python",
   "pygments_lexer": "ipython3",
   "version": "3.10.4"
  },
  "orig_nbformat": 4,
  "vscode": {
   "interpreter": {
    "hash": "e32fd0d85bd7fbeca3e55636a58c61fed80ab040d61907ef6df03f0eb0d5f23b"
   }
  }
 },
 "nbformat": 4,
 "nbformat_minor": 2
}
